{
 "cells": [
  {
   "cell_type": "code",
   "execution_count": 1,
   "source": [
    "import os\r\n",
    "\r\n",
    "# change the working directory to where the example files are located\r\n",
    "os.chdir(os.path.realpath('examples'))\r\n",
    "print(os.listdir())"
   ],
   "outputs": [
    {
     "output_type": "stream",
     "name": "stdout",
     "text": [
      "['483510-hisat2-hybrid-alignment-trimmed.out', '483513-hisat2-hybrid-alignment.out']\n"
     ]
    }
   ],
   "metadata": {}
  },
  {
   "cell_type": "code",
   "execution_count": 2,
   "source": [
    "# import 483510-hisat2-hybrid-alignment-trimmed.out as a list with the first 117 lines trimmed out\r\n",
    "with open(os.listdir()[0], 'r') as f:\r\n",
    "    text = f.read().split(\"\\n\") # splitting each line and storing it as an element an a list\r\n",
    "    text = text[118:] # the first 117 lines are junk\r\n",
    "\r\n",
    "print(text[0:5])"
   ],
   "outputs": [
    {
     "output_type": "stream",
     "name": "stdout",
     "text": [
      "['Aligning reads to the indexed genome using HISAT2 and generating sorted BAM files using Samtools...', 'amelRNA_1_1.trimmed.fq.gz', 'amelRNA_1_2.trimmed.fq.gz', '===============================================================================', 'Time loading forward index: 00:00:01']\n"
     ]
    }
   ],
   "metadata": {}
  },
  {
   "cell_type": "code",
   "execution_count": 4,
   "source": [
    "# a function to extract sample names from the list that contains each new line in the text as an element\r\n",
    "def get_sample_names(list):\r\n",
    "    id = []\r\n",
    "    for i in range(0, len(list)): # looping through each line\r\n",
    "        if list[i] == \"Aligning reads to the indexed genome using HISAT2 and generating sorted BAM files using Samtools...\":\r\n",
    "            bam = list[i+1] # store the line after list[i]\r\n",
    "            # if the first line after list[i] contains the suffix \"trimmed.fq.gz\"\r\n",
    "            if bam[12:] == \".trimmed.fq.gz\" or bam[12:] == \"trimmed.fq.gz\":\r\n",
    "                id.append(bam.replace(\"_1.trimmed.fq.gz\", \"\")) # append the prefix (sample ID)\r\n",
    "            # if the first line after list[i] contains the suffix \"fq.gz\"\r\n",
    "            elif bam[12:] == \".fq.gz\" or bam[12:] == \"fq.gz\":\r\n",
    "                id.append(bam.replace(\"_1.fq.gz\", \"\")) # append the prefix (sample ID)\r\n",
    "    return id\r\n",
    "\r\n",
    "print(get_sample_names(text))"
   ],
   "outputs": [
    {
     "output_type": "stream",
     "name": "stdout",
     "text": [
      "['amelRNA_1', 'amelRNA_2', 'amelRNA_3', 'amelRNA_4', 'amelRNA_5', 'amelRNA_6', 'amelRNA_7', 'amelRNA_8', 'amelRNA_9', 'amelRNA_10', 'amelRNA_11', 'amelRNA_12', 'amelRNA_13', 'amelRNA_14', 'amelRNA_15', 'amelRNA_16', 'amelRNA_18', 'amelRNA_19']\n"
     ]
    }
   ],
   "metadata": {}
  },
  {
   "cell_type": "code",
   "execution_count": 5,
   "source": [
    "# a function to extract alignment statistics\r\n",
    "def get_alignment_stats(list):\r\n",
    "    alignment_stats = []\r\n",
    "\r\n",
    "    # parts of lines (suffix) where the info wanted is found to be used to extract them\r\n",
    "    # since the info we want is found before the parts assigned below in the same line, we refer to them as suffix\r\n",
    "    reads_all = \"reads; of these:\" # total number of paired reads\r\n",
    "    conc_one = \"aligned concordantly exactly 1 time\" # number of paired reads aligned concordantly exactly 1 time\r\n",
    "    conc_multi = \"aligned concordantly >1 times\" # number of paired reads aligned concordantly exactly more than 1 time\r\n",
    "    reads_disconc = \"pairs aligned concordantly 0 times; of these:\" # number of paired reads aligned concordantly exactly 0 time s\r\n",
    "    disconc_one = \"aligned discordantly 1 time\" # number of reads aligned discordantly 1 time\r\n",
    "    pair_mates = \"pairs aligned 0 times concordantly or discordantly; of these:\" # number of paired reads aligned 0 times concordantly or discordantly\r\n",
    "    mates_zero = \"mates make up the pairs; of these:\" # number of reads that make up the pairs\r\n",
    "    mates_one = \"aligned exactly 1 time\" # number of individual reads (mates) aligned exactly 1 time\r\n",
    "    mates_multi = \"aligned >1 times\" # number of individual reads (mates) aligned exactly more than 1 time\r\n",
    "    overall = \"overall alignment rate\" # overall alignment rate of reads to the genome\r\n",
    "\r\n",
    "    for element in list: # looping through the lines\r\n",
    "        # finding the index suffixes start\r\n",
    "        reads_all_ind = element.find(reads_all)\r\n",
    "        conc_one_ind = element.find(conc_one)\r\n",
    "        conc_multi_ind = element.find(conc_multi)\r\n",
    "        reads_disconc_ind = element.find(reads_disconc)\r\n",
    "        disconc_one_ind = element.find(disconc_one)\r\n",
    "        pair_mates_ind = element.find(pair_mates)\r\n",
    "        mates_zero_ind = element.find(mates_zero)\r\n",
    "        mates_one_ind = element.find(mates_one)\r\n",
    "        mates_multi_ind = element.find(mates_multi)\r\n",
    "        overall_ind = element.find(overall)\r\n",
    "        \r\n",
    "        # if a line contains one of the suffixes specificed above, append the prefixes (information of interest) to a new list\r\n",
    "        # removing any leading and trailing whitespaces\r\n",
    "        if element[reads_all_ind:] == reads_all:\r\n",
    "            alignment_stats.append(element[:reads_all_ind].strip())\r\n",
    "        elif element[conc_one_ind:] == conc_one:\r\n",
    "            alignment_stats.append(element[:conc_one_ind].strip())\r\n",
    "        elif element[conc_multi_ind:] == conc_multi:\r\n",
    "            alignment_stats.append(element[:conc_multi_ind].strip())\r\n",
    "        elif element[reads_disconc_ind:] == reads_disconc:\r\n",
    "            alignment_stats.append(element[:reads_disconc_ind].strip())\r\n",
    "        elif element[disconc_one_ind:] == disconc_one:\r\n",
    "            alignment_stats.append(element[:disconc_one_ind].strip())\r\n",
    "        elif element[pair_mates_ind:] == pair_mates:\r\n",
    "            alignment_stats.append(element[:pair_mates_ind].strip())\r\n",
    "        elif element[mates_zero_ind:] == mates_zero:\r\n",
    "            alignment_stats.append(element[:mates_zero_ind].strip())\r\n",
    "        elif element[mates_one_ind:] == mates_one:\r\n",
    "            alignment_stats.append(element[:mates_one_ind].strip())\r\n",
    "        elif element[mates_multi_ind:] == mates_multi:\r\n",
    "            alignment_stats.append(element[:mates_multi_ind].strip())\r\n",
    "        elif element[overall_ind:] == overall:\r\n",
    "            alignment_stats.append(element[:overall_ind].strip())\r\n",
    "    return alignment_stats\r\n",
    "\r\n",
    "print(get_alignment_stats(text))"
   ],
   "outputs": [
    {
     "output_type": "stream",
     "name": "stdout",
     "text": [
      "['29620775', '26049478 (87.94%)', '525302 (1.77%)', '3045995', '225090 (7.39%)', '2820905', '5641810', '1780566 (31.56%)', '56423 (1.00%)', '93.58%', '30911037', '27239267 (88.12%)', '680166 (2.20%)', '2991604', '274388 (9.17%)', '2717216', '5434432', '1792804 (32.99%)', '72653 (1.34%)', '94.23%', '31395825', '27971795 (89.09%)', '572134 (1.82%)', '2851896', '272897 (9.57%)', '2578999', '5157998', '1602742 (31.07%)', '85290 (1.65%)', '94.47%', '32112536', '28430984 (88.54%)', '535309 (1.67%)', '3146243', '228136 (7.25%)', '2918107', '5836214', '1931165 (33.09%)', '76512 (1.31%)', '94.04%', '32081947', '28367725 (88.42%)', '637570 (1.99%)', '3076652', '279069 (9.07%)', '2797583', '5595166', '1874079 (33.49%)', '66125 (1.18%)', '94.30%', '31950608', '28587787 (89.47%)', '460095 (1.44%)', '2902726', '276220 (9.52%)', '2626506', '5253012', '1735708 (33.04%)', '55250 (1.05%)', '94.58%', '30718531', '27126080 (88.31%)', '396309 (1.29%)', '3196142', '395726 (12.38%)', '2800416', '5600832', '1788322 (31.93%)', '67819 (1.21%)', '93.90%', '30008714', '26617522 (88.70%)', '527332 (1.76%)', '2863860', '265331 (9.26%)', '2598529', '5197058', '1751189 (33.70%)', '43633 (0.84%)', '94.33%', '30743620', '27284363 (88.75%)', '505743 (1.65%)', '2953514', '323062 (10.94%)', '2630452', '5260904', '1675953 (31.86%)', '47650 (0.91%)', '94.25%', '31864855', '27449748 (86.14%)', '528560 (1.66%)', '3886547', '248791 (6.40%)', '3637756', '7275512', '2134107 (29.33%)', '67312 (0.93%)', '92.04%', '30573422', '25319222 (82.81%)', '448284 (1.47%)', '4805916', '275312 (5.73%)', '4530604', '9061208', '1671759 (18.45%)', '58426 (0.64%)', '88.01%', '32571115', '28939493 (88.85%)', '381349 (1.17%)', '3250273', '405557 (12.48%)', '2844716', '5689432', '1671312 (29.38%)', '58861 (1.03%)', '93.92%', '31652897', '28288823 (89.37%)', '467531 (1.48%)', '2896543', '266376 (9.20%)', '2630167', '5260334', '1716597 (32.63%)', '69590 (1.32%)', '94.51%', '29628405', '25693821 (86.72%)', '621517 (2.10%)', '3313067', '387492 (11.70%)', '2925575', '5851150', '1835352 (31.37%)', '77597 (1.33%)', '93.35%', '31708754', '27764888 (87.56%)', '531288 (1.68%)', '3412578', '396345 (11.61%)', '3016233', '6032466', '1853281 (30.72%)', '67921 (1.13%)', '93.52%', '29853017', '25344208 (84.90%)', '531541 (1.78%)', '3977268', '350158 (8.80%)', '3627110', '7254220', '1603781 (22.11%)', '60550 (0.83%)', '90.64%', '31176380', '27650410 (88.69%)', '616289 (1.98%)', '2909681', '313336 (10.77%)', '2596345', '5192690', '1698229 (32.70%)', '71732 (1.38%)', '94.51%', '30699600', '26890929 (87.59%)', '560815 (1.83%)', '3247856', '389719 (12.00%)', '2858137', '5716274', '1690236 (29.57%)', '73503 (1.29%)', '93.56%']\n"
     ]
    }
   ],
   "metadata": {}
  }
 ],
 "metadata": {
  "orig_nbformat": 4,
  "language_info": {
   "name": "python",
   "version": "3.9.2",
   "mimetype": "text/x-python",
   "codemirror_mode": {
    "name": "ipython",
    "version": 3
   },
   "pygments_lexer": "ipython3",
   "nbconvert_exporter": "python",
   "file_extension": ".py"
  },
  "kernelspec": {
   "name": "python3",
   "display_name": "Python 3.9.2 64-bit"
  },
  "interpreter": {
   "hash": "6d35480b5c1d294382b0e0921d54eccdfa53dc59be22530d71db640e0bbad820"
  }
 },
 "nbformat": 4,
 "nbformat_minor": 2
}