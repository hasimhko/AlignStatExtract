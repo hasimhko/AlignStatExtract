{
 "cells": [
  {
   "cell_type": "code",
   "execution_count": 1,
   "metadata": {},
   "outputs": [
    {
     "name": "stdout",
     "output_type": "stream",
     "text": [
      "['amelRNA_01_abpv_stats.txt', 'amelRNA_01_alpv_stats.txt', 'amelRNA_01_beemlv_stats.txt', 'amelRNA_01_bqcv_stats.txt', 'amelRNA_01_bsrv_stats.txt', 'amelRNA_01_cbpv_stats.txt', 'amelRNA_01_dwv_stats.txt', 'amelRNA_01_iapv_stats.txt', 'amelRNA_01_kbv_stats.txt', 'amelRNA_01_kv_stats.txt', 'amelRNA_01_lsv_stats.txt', 'amelRNA_01_sbpv_stats.txt', 'amelRNA_01_sb_stats.txt', 'amelRNA_01_vdv1_stats.txt', 'amelRNA_02_abpv_stats.txt', 'amelRNA_02_alpv_stats.txt', 'amelRNA_02_beemlv_stats.txt', 'amelRNA_02_bqcv_stats.txt', 'amelRNA_02_bsrv_stats.txt', 'amelRNA_02_cbpv_stats.txt', 'amelRNA_02_dwv_stats.txt', 'amelRNA_02_iapv_stats.txt', 'amelRNA_02_kbv_stats.txt', 'amelRNA_02_kv_stats.txt', 'amelRNA_02_lsv_stats.txt', 'amelRNA_02_sbpv_stats.txt', 'amelRNA_02_sb_stats.txt', 'amelRNA_02_vdv1_stats.txt', 'amelRNA_03_abpv_stats.txt', 'amelRNA_03_alpv_stats.txt', 'amelRNA_03_beemlv_stats.txt', 'amelRNA_03_bqcv_stats.txt', 'amelRNA_03_bsrv_stats.txt', 'amelRNA_03_cbpv_stats.txt', 'amelRNA_03_dwv_stats.txt', 'amelRNA_03_iapv_stats.txt', 'amelRNA_03_kbv_stats.txt', 'amelRNA_03_kv_stats.txt', 'amelRNA_03_lsv_stats.txt', 'amelRNA_03_sbpv_stats.txt', 'amelRNA_03_sb_stats.txt', 'amelRNA_03_vdv1_stats.txt']\n"
     ]
    }
   ],
   "source": [
    "import os\n",
    "import pandas as pd\n",
    "\n",
    "os.chdir(os.path.realpath('viruses_alignment_stats'))\n",
    "\n",
    "files = os.listdir()\n",
    "print(files)"
   ]
  },
  {
   "cell_type": "code",
   "execution_count": 86,
   "metadata": {},
   "outputs": [],
   "source": [
    "def get_sample_ids(filename_list):\n",
    "    id = []\n",
    "    for filename in filename_list: # looping through each line\n",
    "        if filename[0:10] in id:\n",
    "            continue\n",
    "        else:\n",
    "            id.append(filename[0:10])\n",
    "    return id\n",
    "\n",
    "sample_ids = get_sample_ids(files)"
   ]
  },
  {
   "cell_type": "code",
   "execution_count": 87,
   "metadata": {},
   "outputs": [
    {
     "name": "stdout",
     "output_type": "stream",
     "text": [
      "['amelRNA_01', 'amelRNA_02', 'amelRNA_03']\n"
     ]
    }
   ],
   "source": [
    "print(sample_ids)"
   ]
  },
  {
   "cell_type": "code",
   "execution_count": 84,
   "metadata": {},
   "outputs": [],
   "source": [
    "def virus_name(filename_list):\n",
    "    virus_id = []\n",
    "    for filename in filename_list: \n",
    "        start = filename.index('_', filename.index('_')+1)\n",
    "        filename_temp = filename[start+1:]\n",
    "        end = filename_temp.index('_', filename_temp.index('_'))\n",
    "        virus = filename_temp[:end]\n",
    "        \n",
    "        if virus in virus_id:\n",
    "            continue\n",
    "        else:\n",
    "            virus_id.append(virus)\n",
    "    return virus_id\n",
    "\n",
    "viruses = virus_name(files)"
   ]
  },
  {
   "cell_type": "code",
   "execution_count": 85,
   "metadata": {},
   "outputs": [
    {
     "name": "stdout",
     "output_type": "stream",
     "text": [
      "['abpv', 'alpv', 'beemlv', 'bqcv', 'bsrv', 'cbpv', 'dwv', 'iapv', 'kbv', 'kv', 'lsv', 'sbpv', 'sb', 'vdv1']\n"
     ]
    }
   ],
   "source": [
    "print(viruses)"
   ]
  },
  {
   "cell_type": "code",
   "execution_count": 82,
   "metadata": {},
   "outputs": [],
   "source": [
    "def reads_mapped_paired(file):\n",
    "    for i in range(0, len(file)):\n",
    "        if \"reads mapped and paired\" in file[i]:\n",
    "            reads = file[i].split(\"\\t\")\n",
    "    return reads[2]\n",
    "\n",
    "def viral_read_dict(filename_list, sample_ids, virus_ids):\n",
    "    sample_viral_reads = {}\n",
    "    for sample in sample_ids:\n",
    "        reads = []\n",
    "        for filename in filename_list:\n",
    "            if sample in filename:\n",
    "                with open(filename, 'r') as f:\n",
    "                    text = f.read().split(\"\\n\")\n",
    "\n",
    "                reads.append(reads_mapped_paired(text))\n",
    "                s = dict(zip(virus_ids,reads))\n",
    "                sample_viral_reads.update({sample:s})\n",
    "    return sample_viral_reads\n",
    "\n",
    "viral_dict = viral_read_dict(files, sample_ids, viruses)"
   ]
  },
  {
   "cell_type": "code",
   "execution_count": 83,
   "metadata": {},
   "outputs": [
    {
     "name": "stdout",
     "output_type": "stream",
     "text": [
      "{'amelRNA_01': {'abpv': '0', 'alpv': '0', 'beemlv': '0', 'bqcv': '402', 'bsrv': '0', 'cbpv': '0', 'dwv': '633142', 'iapv': '0', 'kbv': '0', 'kv': '949523', 'lsv': '0', 'sbpv': '0', 'sb': '0', 'vdv1': '760468'}, 'amelRNA_02': {'abpv': '0', 'alpv': '0', 'beemlv': '0', 'bqcv': '1710', 'bsrv': '0', 'cbpv': '0', 'dwv': '122516', 'iapv': '0', 'kbv': '0', 'kv': '242259', 'lsv': '0', 'sbpv': '0', 'sb': '0', 'vdv1': '384316'}, 'amelRNA_03': {'abpv': '0', 'alpv': '0', 'beemlv': '0', 'bqcv': '19924', 'bsrv': '0', 'cbpv': '0', 'dwv': '37310', 'iapv': '0', 'kbv': '0', 'kv': '7076', 'lsv': '0', 'sbpv': '0', 'sb': '0', 'vdv1': '48102'}}\n"
     ]
    }
   ],
   "source": [
    "print(viral_dict)"
   ]
  },
  {
   "cell_type": "code",
   "execution_count": 81,
   "metadata": {},
   "outputs": [],
   "source": [
    "viral_reads_df = pd.concat([pd.Series(sample_ids), pd.DataFrame.from_dict(viral_dict.values())], axis=1)\n",
    "viral_reads_df = viral_reads_df.rename(columns={0: 'sample'}).set_index('sample')"
   ]
  },
  {
   "cell_type": "code",
   "execution_count": 77,
   "metadata": {},
   "outputs": [
    {
     "data": {
      "text/html": [
       "<div>\n",
       "<style scoped>\n",
       "    .dataframe tbody tr th:only-of-type {\n",
       "        vertical-align: middle;\n",
       "    }\n",
       "\n",
       "    .dataframe tbody tr th {\n",
       "        vertical-align: top;\n",
       "    }\n",
       "\n",
       "    .dataframe thead th {\n",
       "        text-align: right;\n",
       "    }\n",
       "</style>\n",
       "<table border=\"1\" class=\"dataframe\">\n",
       "  <thead>\n",
       "    <tr style=\"text-align: right;\">\n",
       "      <th></th>\n",
       "      <th>abpv</th>\n",
       "      <th>alpv</th>\n",
       "      <th>beemlv</th>\n",
       "      <th>bqcv</th>\n",
       "      <th>bsrv</th>\n",
       "      <th>cbpv</th>\n",
       "      <th>dwv</th>\n",
       "      <th>iapv</th>\n",
       "      <th>kbv</th>\n",
       "      <th>kv</th>\n",
       "      <th>lsv</th>\n",
       "      <th>sbpv</th>\n",
       "      <th>sb</th>\n",
       "      <th>vdv1</th>\n",
       "    </tr>\n",
       "    <tr>\n",
       "      <th>sample</th>\n",
       "      <th></th>\n",
       "      <th></th>\n",
       "      <th></th>\n",
       "      <th></th>\n",
       "      <th></th>\n",
       "      <th></th>\n",
       "      <th></th>\n",
       "      <th></th>\n",
       "      <th></th>\n",
       "      <th></th>\n",
       "      <th></th>\n",
       "      <th></th>\n",
       "      <th></th>\n",
       "      <th></th>\n",
       "    </tr>\n",
       "  </thead>\n",
       "  <tbody>\n",
       "    <tr>\n",
       "      <th>amelRNA_01</th>\n",
       "      <td>0</td>\n",
       "      <td>0</td>\n",
       "      <td>0</td>\n",
       "      <td>402</td>\n",
       "      <td>0</td>\n",
       "      <td>0</td>\n",
       "      <td>633142</td>\n",
       "      <td>0</td>\n",
       "      <td>0</td>\n",
       "      <td>949523</td>\n",
       "      <td>0</td>\n",
       "      <td>0</td>\n",
       "      <td>0</td>\n",
       "      <td>760468</td>\n",
       "    </tr>\n",
       "    <tr>\n",
       "      <th>amelRNA_02</th>\n",
       "      <td>0</td>\n",
       "      <td>0</td>\n",
       "      <td>0</td>\n",
       "      <td>1710</td>\n",
       "      <td>0</td>\n",
       "      <td>0</td>\n",
       "      <td>122516</td>\n",
       "      <td>0</td>\n",
       "      <td>0</td>\n",
       "      <td>242259</td>\n",
       "      <td>0</td>\n",
       "      <td>0</td>\n",
       "      <td>0</td>\n",
       "      <td>384316</td>\n",
       "    </tr>\n",
       "    <tr>\n",
       "      <th>amelRNA_03</th>\n",
       "      <td>0</td>\n",
       "      <td>0</td>\n",
       "      <td>0</td>\n",
       "      <td>19924</td>\n",
       "      <td>0</td>\n",
       "      <td>0</td>\n",
       "      <td>37310</td>\n",
       "      <td>0</td>\n",
       "      <td>0</td>\n",
       "      <td>7076</td>\n",
       "      <td>0</td>\n",
       "      <td>0</td>\n",
       "      <td>0</td>\n",
       "      <td>48102</td>\n",
       "    </tr>\n",
       "  </tbody>\n",
       "</table>\n",
       "</div>"
      ],
      "text/plain": [
       "           abpv alpv beemlv   bqcv bsrv cbpv     dwv iapv kbv      kv lsv  \\\n",
       "sample                                                                      \n",
       "amelRNA_01    0    0      0    402    0    0  633142    0   0  949523   0   \n",
       "amelRNA_02    0    0      0   1710    0    0  122516    0   0  242259   0   \n",
       "amelRNA_03    0    0      0  19924    0    0   37310    0   0    7076   0   \n",
       "\n",
       "           sbpv sb    vdv1  \n",
       "sample                      \n",
       "amelRNA_01    0  0  760468  \n",
       "amelRNA_02    0  0  384316  \n",
       "amelRNA_03    0  0   48102  "
      ]
     },
     "execution_count": 77,
     "metadata": {},
     "output_type": "execute_result"
    }
   ],
   "source": [
    "viral_reads_df"
   ]
  },
  {
   "cell_type": "code",
   "execution_count": 73,
   "metadata": {},
   "outputs": [],
   "source": [
    "viral_reads_df.to_csv(\"viral_reads.csv\")"
   ]
  }
 ],
 "metadata": {
  "interpreter": {
   "hash": "6d35480b5c1d294382b0e0921d54eccdfa53dc59be22530d71db640e0bbad820"
  },
  "kernelspec": {
   "display_name": "Python 3.9.2 64-bit",
   "name": "python3"
  },
  "language_info": {
   "codemirror_mode": {
    "name": "ipython",
    "version": 3
   },
   "file_extension": ".py",
   "mimetype": "text/x-python",
   "name": "python",
   "nbconvert_exporter": "python",
   "pygments_lexer": "ipython3",
   "version": "3.9.2"
  },
  "orig_nbformat": 4
 },
 "nbformat": 4,
 "nbformat_minor": 2
}
