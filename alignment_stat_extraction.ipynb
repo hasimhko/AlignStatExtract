{
 "cells": [
  {
   "cell_type": "code",
   "execution_count": 1,
   "source": [
    "import os\r\n",
    "\r\n",
    "# change the working directory to where the example files are located\r\n",
    "os.chdir(os.path.realpath('examples'))\r\n",
    "print(os.listdir())"
   ],
   "outputs": [
    {
     "output_type": "stream",
     "name": "stdout",
     "text": [
      "['483510-hisat2-hybrid-alignment-trimmed.out', '483513-hisat2-hybrid-alignment.out']\n"
     ]
    }
   ],
   "metadata": {}
  },
  {
   "cell_type": "code",
   "execution_count": 2,
   "source": [
    "# import 483510-hisat2-hybrid-alignment-trimmed.out as a list with the first 117 lines trimmed out\r\n",
    "with open(os.listdir()[0], 'r') as f:\r\n",
    "    text = f.read().split(\"\\n\") # splitting each line and storing it as an element an a list\r\n",
    "    text = text[118:] # the first 117 lines are junk\r\n",
    "\r\n",
    "print(text[0:5])"
   ],
   "outputs": [
    {
     "output_type": "stream",
     "name": "stdout",
     "text": [
      "['Aligning reads to the indexed genome using HISAT2 and generating sorted BAM files using Samtools...', 'amelRNA_1_1.trimmed.fq.gz', 'amelRNA_1_2.trimmed.fq.gz', '===============================================================================', 'Time loading forward index: 00:00:01']\n"
     ]
    }
   ],
   "metadata": {}
  }
 ],
 "metadata": {
  "orig_nbformat": 4,
  "language_info": {
   "name": "python",
   "version": "3.9.2",
   "mimetype": "text/x-python",
   "codemirror_mode": {
    "name": "ipython",
    "version": 3
   },
   "pygments_lexer": "ipython3",
   "nbconvert_exporter": "python",
   "file_extension": ".py"
  },
  "kernelspec": {
   "name": "python3",
   "display_name": "Python 3.9.2 64-bit"
  },
  "interpreter": {
   "hash": "6d35480b5c1d294382b0e0921d54eccdfa53dc59be22530d71db640e0bbad820"
  }
 },
 "nbformat": 4,
 "nbformat_minor": 2
}