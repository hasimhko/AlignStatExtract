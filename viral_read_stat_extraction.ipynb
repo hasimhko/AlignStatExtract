{
 "cells": [
  {
   "cell_type": "code",
   "execution_count": 19,
   "source": [
    "import os\r\n",
    "os.chdir(os.path.realpath('viruses_alignment_stats'))\r\n",
    "\r\n",
    "files = os.listdir()\r\n",
    "print(files)"
   ],
   "outputs": [
    {
     "output_type": "stream",
     "name": "stdout",
     "text": [
      "['amelRNA_01_abpv_stats.txt', 'amelRNA_01_alpv_stats.txt', 'amelRNA_01_beemlv_stats.txt', 'amelRNA_01_bqcv_stats.txt', 'amelRNA_01_bsrv_stats.txt', 'amelRNA_01_cbpv_stats.txt', 'amelRNA_01_dwv_stats.txt', 'amelRNA_01_iapv_stats.txt', 'amelRNA_01_kbv_stats.txt', 'amelRNA_01_kv_stats.txt', 'amelRNA_01_lsv_stats.txt', 'amelRNA_01_sbpv_stats.txt', 'amelRNA_01_sb_stats.txt', 'amelRNA_01_vdv1_stats.txt', 'amelRNA_02_abpv_stats.txt', 'amelRNA_02_alpv_stats.txt', 'amelRNA_02_beemlv_stats.txt', 'amelRNA_02_bqcv_stats.txt', 'amelRNA_02_bsrv_stats.txt', 'amelRNA_02_cbpv_stats.txt', 'amelRNA_02_dwv_stats.txt', 'amelRNA_02_iapv_stats.txt', 'amelRNA_02_kbv_stats.txt', 'amelRNA_02_kv_stats.txt', 'amelRNA_02_lsv_stats.txt', 'amelRNA_02_sbpv_stats.txt', 'amelRNA_02_sb_stats.txt', 'amelRNA_02_vdv1_stats.txt', 'amelRNA_03_abpv_stats.txt', 'amelRNA_03_alpv_stats.txt', 'amelRNA_03_beemlv_stats.txt', 'amelRNA_03_bqcv_stats.txt', 'amelRNA_03_bsrv_stats.txt', 'amelRNA_03_cbpv_stats.txt', 'amelRNA_03_dwv_stats.txt', 'amelRNA_03_iapv_stats.txt', 'amelRNA_03_kbv_stats.txt', 'amelRNA_03_kv_stats.txt', 'amelRNA_03_lsv_stats.txt', 'amelRNA_03_sbpv_stats.txt', 'amelRNA_03_sb_stats.txt', 'amelRNA_03_vdv1_stats.txt']\n"
     ]
    }
   ],
   "metadata": {}
  },
  {
   "cell_type": "code",
   "execution_count": 14,
   "source": [
    "def get_sample_ids(filename_list):\r\n",
    "    id = []\r\n",
    "    for filename in filename_list: # looping through each line\r\n",
    "        if filename[0:10] in id:\r\n",
    "            continue\r\n",
    "        else:\r\n",
    "            id.append(filename[0:10])\r\n",
    "    return id\r\n",
    "\r\n",
    "print(get_sample_ids(files))\r\n",
    "\r\n"
   ],
   "outputs": [
    {
     "output_type": "stream",
     "name": "stdout",
     "text": [
      "['amelRNA_01', 'amelRNA_02', 'amelRNA_03']\n"
     ]
    }
   ],
   "metadata": {}
  },
  {
   "cell_type": "code",
   "execution_count": 49,
   "source": [
    "def virus_name(filename_list):\r\n",
    "    virus_id = []\r\n",
    "    for filename in filename_list: \r\n",
    "        start = filename.index('_', filename.index('_')+1)\r\n",
    "        filename_temp = filename[start+1:]\r\n",
    "        end = filename_temp.index('_', filename_temp.index('_'))\r\n",
    "        virus = filename_temp[:end]\r\n",
    "        \r\n",
    "        if virus in virus_id:\r\n",
    "            continue\r\n",
    "        else:\r\n",
    "            virus_id.append(virus)\r\n",
    "    return virus_id\r\n",
    "\r\n",
    "print(virus_name(files))"
   ],
   "outputs": [
    {
     "output_type": "stream",
     "name": "stdout",
     "text": [
      "['abpv', 'alpv', 'beemlv', 'bqcv', 'bsrv', 'cbpv', 'dwv', 'iapv', 'kbv', 'kv', 'lsv', 'sbpv', 'sb', 'vdv1']\n"
     ]
    }
   ],
   "metadata": {}
  }
 ],
 "metadata": {
  "orig_nbformat": 4,
  "language_info": {
   "name": "python",
   "version": "3.9.2",
   "mimetype": "text/x-python",
   "codemirror_mode": {
    "name": "ipython",
    "version": 3
   },
   "pygments_lexer": "ipython3",
   "nbconvert_exporter": "python",
   "file_extension": ".py"
  },
  "kernelspec": {
   "name": "python3",
   "display_name": "Python 3.9.2 64-bit"
  },
  "interpreter": {
   "hash": "6d35480b5c1d294382b0e0921d54eccdfa53dc59be22530d71db640e0bbad820"
  }
 },
 "nbformat": 4,
 "nbformat_minor": 2
}