{
 "cells": [
  {
   "cell_type": "code",
   "execution_count": 1,
   "source": [
    "import os\r\n",
    "\r\n",
    "# change the working directory to where the example files are located\r\n",
    "os.chdir(os.path.realpath('examples'))\r\n",
    "print(os.listdir())"
   ],
   "outputs": [
    {
     "output_type": "stream",
     "name": "stdout",
     "text": [
      "['483510-hisat2-hybrid-alignment-trimmed.out', '483513-hisat2-hybrid-alignment.out']\n"
     ]
    }
   ],
   "metadata": {}
  }
 ],
 "metadata": {
  "orig_nbformat": 4,
  "language_info": {
   "name": "python",
   "version": "3.9.2",
   "mimetype": "text/x-python",
   "codemirror_mode": {
    "name": "ipython",
    "version": 3
   },
   "pygments_lexer": "ipython3",
   "nbconvert_exporter": "python",
   "file_extension": ".py"
  },
  "kernelspec": {
   "name": "python3",
   "display_name": "Python 3.9.2 64-bit"
  },
  "interpreter": {
   "hash": "6d35480b5c1d294382b0e0921d54eccdfa53dc59be22530d71db640e0bbad820"
  }
 },
 "nbformat": 4,
 "nbformat_minor": 2
}